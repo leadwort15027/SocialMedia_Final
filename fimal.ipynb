{
 "cells": [
  {
   "cell_type": "code",
   "execution_count": 4,
   "metadata": {
    "collapsed": false
   },
   "outputs": [
    {
     "name": "stdout",
     "output_type": "stream",
     "text": [
      "<Elasticsearch([{u'host': '140.118.175.209', u'scheme': 'http', u'port': 9200}])>\n"
     ]
    }
   ],
   "source": [
    "#coding = utf-8\n",
    "import numpy as np\n",
    "import pandas as pd\n",
    "from elasticsearch import Elasticsearch\n",
    "import pyes\n",
    "import json\n",
    "import datetime\n",
    "\n",
    "host = \"140.118.175.209:9200\"\n",
    "pd.options.display.max_rows = 999\n",
    "pd.options.display.max_columns = 999\n",
    "es = Elasticsearch(['http://140.118.175.209:9200/'])\n",
    "\n",
    "fid1 = \"157941490891336\"\n",
    "fid2 = \"134004310003557\"\n",
    "fid3 = \"139624776093433\"\n",
    "print es"
   ]
  },
  {
   "cell_type": "code",
   "execution_count": 5,
   "metadata": {
    "collapsed": false
   },
   "outputs": [
    {
     "name": "stdout",
     "output_type": "stream",
     "text": [
      "580765 7319\n"
     ]
    }
   ],
   "source": [
    "def getLikes_Fans(fid):\n",
    "    a = es.search(\n",
    "        index = \"facebook_nested\",\n",
    "        doc_type=\"fanpage\",\n",
    "         body={\n",
    "                \"query\": {\n",
    "                    \"term\": {\n",
    "                        \"fid\": fid\n",
    "                    }\n",
    "                },\n",
    "                 \"size\":200\n",
    "        },\n",
    "        size = 200\n",
    "\n",
    "    )\n",
    "    df = pd.read_json(json.dumps(a[\"hits\"][\"hits\"]))\n",
    "    q = df[\"_source\"][0]\n",
    "    \n",
    "#     datetime.datetime.fromtimestamp(1463034913204/1000).strftime('%Y-%m-%d') ,\n",
    "    return  (q[\"likes_count\"], q[\"talking_about_count\"])\n",
    "\n",
    "\n",
    "likes, talking_about = getLikes_Fans(fid3)\n",
    "print likes, talking_about"
   ]
  },
  {
   "cell_type": "code",
   "execution_count": 298,
   "metadata": {
    "collapsed": false
   },
   "outputs": [
    {
     "name": "stdout",
     "output_type": "stream",
     "text": [
      "1120\n"
     ]
    }
   ],
   "source": [
    "def getTotalPost(fid):\n",
    "    b = es.count(\n",
    "    index = \"facebook_nested\",\n",
    "            doc_type=\"post\",\n",
    "             body={\n",
    "                    \"query\": {\n",
    "                        \"term\": {\n",
    "                            \"fid\": fid\n",
    "                        }\n",
    "                    },\n",
    "                     \"size\":200\n",
    "            }\n",
    "    )\n",
    "    df = pd.read_json(json.dumps(b))\n",
    "    return df[\"count\"][\"total\"]\n",
    "\n",
    "totalpost = getTotalPost(fid3)\n",
    "print totalpost\n"
   ]
  }
 ],
 "metadata": {
  "kernelspec": {
   "display_name": "Python 2",
   "language": "python",
   "name": "python2"
  },
  "language_info": {
   "codemirror_mode": {
    "name": "ipython",
    "version": 2
   },
   "file_extension": ".py",
   "mimetype": "text/x-python",
   "name": "python",
   "nbconvert_exporter": "python",
   "pygments_lexer": "ipython2",
   "version": "2.7.6"
  }
 },
 "nbformat": 4,
 "nbformat_minor": 1
}

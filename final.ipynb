{
 "cells": [
  {
   "cell_type": "code",
   "execution_count": 17,
   "metadata": {
    "collapsed": false
   },
   "outputs": [
    {
     "name": "stdout",
     "output_type": "stream",
     "text": [
      "<Elasticsearch([{u'host': '140.118.175.209', u'scheme': 'http', u'port': 9200}])>\n"
     ]
    }
   ],
   "source": [
    "#coding = utf-8\n",
    "import numpy as np\n",
    "import pandas as pd\n",
    "from elasticsearch import Elasticsearch\n",
    "import pyes\n",
    "import json\n",
    "import datetime\n",
    "import seaborn as sns\n",
    "import matplotlib.pyplot as plt\n",
    "\n",
    "host = \"140.118.175.209:9200\"\n",
    "pd.options.display.max_rows = 999\n",
    "pd.options.display.max_columns = 999\n",
    "es = Elasticsearch(['http://140.118.175.209:9200/'])\n",
    "\n",
    "fid1 = \"157941490891336\" #ford\n",
    "fid2 = \"134004310003557\" #pxmart\n",
    "fid3= \"139624776093433\" #ikea\n",
    "print es"
   ]
  },
  {
   "cell_type": "code",
   "execution_count": 51,
   "metadata": {
    "collapsed": false
   },
   "outputs": [
    {
     "name": "stdout",
     "output_type": "stream",
     "text": [
      "122421 7067\n"
     ]
    }
   ],
   "source": [
    "def getLikes_Fans(fid):\n",
    "    a = es.search(\n",
    "        index = \"facebook_nested\",\n",
    "        doc_type=\"fanpage\",\n",
    "         body={\n",
    "                \"query\": {\n",
    "                    \"term\": {\n",
    "                        \"fid\": fid\n",
    "                    }\n",
    "                },\n",
    "                 \"size\":200\n",
    "        },\n",
    "        size = 200\n",
    "\n",
    "    )\n",
    "    df = pd.read_json(json.dumps(a[\"hits\"][\"hits\"]))\n",
    "    q = df[\"_source\"][0]\n",
    "    \n",
    "#     datetime.datetime.fromtimestamp(1463034913204/1000).strftime('%Y-%m-%d') ,\n",
    "    return  (q[\"likes_count\"], q[\"talking_about_count\"])\n",
    "\n",
    "\n",
    "likes, talking_about = getLikes_Fans(fid1)\n",
    "print likes, talking_about"
   ]
  },
  {
   "cell_type": "code",
   "execution_count": 50,
   "metadata": {
    "collapsed": false
   },
   "outputs": [
    {
     "name": "stdout",
     "output_type": "stream",
     "text": [
      "1120\n"
     ]
    }
   ],
   "source": [
    "def getTotalPost(fid):\n",
    "    b = es.count(\n",
    "    index = \"facebook_nested\",\n",
    "            doc_type=\"post\",\n",
    "             body={\n",
    "                    \"query\": {\n",
    "                        \"term\": {\n",
    "                            \"fid\": fid\n",
    "                        }\n",
    "                    },\n",
    "                     \"size\":200\n",
    "            }\n",
    "    )\n",
    "    df = pd.read_json(json.dumps(b))\n",
    "    return df[\"count\"][\"total\"]\n",
    "\n",
    "totalpost = getTotalPost(fid3)\n",
    "print totalpost\n"
   ]
  },
  {
   "cell_type": "code",
   "execution_count": 46,
   "metadata": {
    "collapsed": false
   },
   "outputs": [],
   "source": [
    "def boxPlotNumofPostPerMonth(fid,host,lowerbound,upperbound,pngFilePath):\n",
    "    conn = pyes.es.ES(host)\n",
    "    tq = pyes.query.TermQuery(field=\"fid\", value=fid)\n",
    "    DHAgg = pyes.aggs.DateHistogramAgg('month' ,field='created_time', interval='month',sub_aggs=[])\n",
    "    tagg = pyes.aggs.TermsAgg('pid', field= 'fid_pid')\n",
    "    DHAgg.sub_aggs.append(tagg) \n",
    "    qsearch = pyes.query.Search(tq) \n",
    "    qsearch.agg.add(DHAgg) \n",
    "    result = conn.search(query=qsearch , indices='facebook_nested' , doc_types='comment')\n",
    "\n",
    "    data=[]\n",
    "    for r in result.aggs[\"month\"][\"buckets\"]:\n",
    "        for pid in r[\"pid\"][\"buckets\"]:\n",
    "            monthyear=datetime.datetime.strptime(r[\"key_as_string\"], \"%Y-%m-%dT%H:%M:%S.%fZ\").strftime('%Y/%m')\n",
    "            data.append([pid[\"doc_count\"],monthyear,pid[\"key\"],r[\"key\"]])\n",
    "\n",
    "    df=pd.DataFrame(data,columns={'date','count','fid','pid'})\n",
    "\n",
    "    sns.set(style=\"ticks\")\n",
    "    sns_plot=sns.boxplot(x=\"date\", y=\"count\", data=df, palette=\"PRGn\")\n",
    "    fig=sns_plot.get_figure()\n",
    "    plt.ylim(lower_bound, upper_bound)\n",
    "    fig.savefig(pngFilePath)\n",
    "\n",
    "\n",
    "lower_bound = 0\n",
    "upper_bound = 600\n",
    "fid=fid1\n",
    "pngFilePath=\"output3-1.png\"\n",
    "boxPlotNumofPostPerMonth(fid,host,lower_bound,upper_bound,pngFilePath)"
   ]
  },
  {
   "cell_type": "code",
   "execution_count": 42,
   "metadata": {
    "collapsed": true
   },
   "outputs": [],
   "source": [
    "def boxPlotFBFansPageComp(fids,host,pngFilePath,outlierFilter):\n",
    "    data=[]\n",
    "    for fid in fids:\n",
    "        conn = pyes.es.ES(host)\n",
    "        tq = pyes.query.TermQuery(field=\"fid\", value=fid)\n",
    "        tagg = pyes.aggs.TermsAgg('pid', field= 'fid_pid')\n",
    "        qsearch = pyes.query.Search(tq) \n",
    "        qsearch.agg.add(tagg) \n",
    "        result = conn.search(query=qsearch , indices='facebook_nested' , doc_types='comment')\n",
    "        #print json.dumps(result.aggs,indent=2) \n",
    "        for fidpid_summary in result.aggs[\"pid\"][\"buckets\"]:\n",
    "            #print fidpid_summary[\"key\"] + ',' + str(fidpid_summary[\"doc_count\"])\n",
    "            if fidpid_summary[\"doc_count\"] < outlierFilter or outlierFilter < 0:\n",
    "                data.append([fidpid_summary[\"doc_count\"],fid,fidpid_summary[\"key\"]])\n",
    "\n",
    "    df=pd.DataFrame(data,columns={'count','fid','fidpid'})\n",
    "    sns.set(style=\"ticks\")\n",
    "    sns_plot=sns.boxplot(x=\"fid\", y=\"count\", data=df, palette=\"PRGn\")\n",
    "    fig=sns_plot.get_figure()\n",
    "    fig.savefig(pngFilePath)\n",
    "    \n",
    "    \n",
    "fids=[fid1,fid2,fid3]\n",
    "pngFilePath=\"output.png\"\n",
    "outlierFilter=400\n",
    "boxPlotFBFansPageComp(fids,host,pngFilePath,outlierFilter)"
   ]
  }
 ],
 "metadata": {
  "kernelspec": {
   "display_name": "Python 2",
   "language": "python",
   "name": "python2"
  },
  "language_info": {
   "codemirror_mode": {
    "name": "ipython",
    "version": 2
   },
   "file_extension": ".py",
   "mimetype": "text/x-python",
   "name": "python",
   "nbconvert_exporter": "python",
   "pygments_lexer": "ipython2",
   "version": "2.7.6"
  }
 },
 "nbformat": 4,
 "nbformat_minor": 1
}
